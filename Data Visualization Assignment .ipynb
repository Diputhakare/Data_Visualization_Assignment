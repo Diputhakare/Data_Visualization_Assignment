{
 "cells": [
  {
   "cell_type": "code",
   "execution_count": 2,
   "id": "bb7a3480",
   "metadata": {},
   "outputs": [],
   "source": [
    "import numpy as np\n",
    "import pandas as pd\n",
    "import matplotlib.pyplot as plt\n",
    "import seaborn as sns\n",
    "%matplotlib inline\n",
    "import warnings\n",
    "warnings.filterwarnings('ignore')"
   ]
  },
  {
   "cell_type": "code",
   "execution_count": 29,
   "id": "15ebb014",
   "metadata": {},
   "outputs": [],
   "source": [
    "import missingno as msno"
   ]
  },
  {
   "cell_type": "code",
   "execution_count": 3,
   "id": "33eac788",
   "metadata": {},
   "outputs": [],
   "source": [
    "df=pd.read_excel(\"Data Visualization Assignmnet.xlsx\")"
   ]
  },
  {
   "cell_type": "code",
   "execution_count": 4,
   "id": "9a1b1ffb",
   "metadata": {},
   "outputs": [
    {
     "data": {
      "text/html": [
       "<div>\n",
       "<style scoped>\n",
       "    .dataframe tbody tr th:only-of-type {\n",
       "        vertical-align: middle;\n",
       "    }\n",
       "\n",
       "    .dataframe tbody tr th {\n",
       "        vertical-align: top;\n",
       "    }\n",
       "\n",
       "    .dataframe thead th {\n",
       "        text-align: right;\n",
       "    }\n",
       "</style>\n",
       "<table border=\"1\" class=\"dataframe\">\n",
       "  <thead>\n",
       "    <tr style=\"text-align: right;\">\n",
       "      <th></th>\n",
       "      <th>DATE</th>\n",
       "      <th>DESCRIPTION</th>\n",
       "      <th>UNIT</th>\n",
       "      <th>PLACE</th>\n",
       "    </tr>\n",
       "  </thead>\n",
       "  <tbody>\n",
       "    <tr>\n",
       "      <th>0</th>\n",
       "      <td>2022-04-01</td>\n",
       "      <td>Beef</td>\n",
       "      <td>1.0</td>\n",
       "      <td>Kolenchery</td>\n",
       "    </tr>\n",
       "    <tr>\n",
       "      <th>1</th>\n",
       "      <td>2022-04-01</td>\n",
       "      <td>Fish</td>\n",
       "      <td>1.0</td>\n",
       "      <td>Kolenchery</td>\n",
       "    </tr>\n",
       "    <tr>\n",
       "      <th>2</th>\n",
       "      <td>2022-04-03</td>\n",
       "      <td>Beef</td>\n",
       "      <td>2.0</td>\n",
       "      <td>Tripunithura</td>\n",
       "    </tr>\n",
       "    <tr>\n",
       "      <th>3</th>\n",
       "      <td>2022-04-05</td>\n",
       "      <td>Prawns</td>\n",
       "      <td>1.0</td>\n",
       "      <td>Bangalore</td>\n",
       "    </tr>\n",
       "    <tr>\n",
       "      <th>4</th>\n",
       "      <td>2022-04-06</td>\n",
       "      <td>Dates</td>\n",
       "      <td>1.0</td>\n",
       "      <td>Mangalore</td>\n",
       "    </tr>\n",
       "  </tbody>\n",
       "</table>\n",
       "</div>"
      ],
      "text/plain": [
       "        DATE DESCRIPTION  UNIT          PLACE\n",
       "0 2022-04-01        Beef   1.0    Kolenchery \n",
       "1 2022-04-01        Fish   1.0    Kolenchery \n",
       "2 2022-04-03        Beef   2.0  Tripunithura \n",
       "3 2022-04-05      Prawns   1.0     Bangalore \n",
       "4 2022-04-06       Dates   1.0      Mangalore"
      ]
     },
     "execution_count": 4,
     "metadata": {},
     "output_type": "execute_result"
    }
   ],
   "source": [
    "# Data Review\n",
    "df.head() # Top 5 rows "
   ]
  },
  {
   "cell_type": "code",
   "execution_count": 5,
   "id": "58cf35d0",
   "metadata": {},
   "outputs": [
    {
     "data": {
      "text/html": [
       "<div>\n",
       "<style scoped>\n",
       "    .dataframe tbody tr th:only-of-type {\n",
       "        vertical-align: middle;\n",
       "    }\n",
       "\n",
       "    .dataframe tbody tr th {\n",
       "        vertical-align: top;\n",
       "    }\n",
       "\n",
       "    .dataframe thead th {\n",
       "        text-align: right;\n",
       "    }\n",
       "</style>\n",
       "<table border=\"1\" class=\"dataframe\">\n",
       "  <thead>\n",
       "    <tr style=\"text-align: right;\">\n",
       "      <th></th>\n",
       "      <th>DATE</th>\n",
       "      <th>DESCRIPTION</th>\n",
       "      <th>UNIT</th>\n",
       "      <th>PLACE</th>\n",
       "    </tr>\n",
       "  </thead>\n",
       "  <tbody>\n",
       "    <tr>\n",
       "      <th>106</th>\n",
       "      <td>2022-07-05</td>\n",
       "      <td>Lemon</td>\n",
       "      <td>4.0</td>\n",
       "      <td>NaN</td>\n",
       "    </tr>\n",
       "    <tr>\n",
       "      <th>107</th>\n",
       "      <td>2022-07-08</td>\n",
       "      <td>Beef</td>\n",
       "      <td>1.0</td>\n",
       "      <td>NaN</td>\n",
       "    </tr>\n",
       "    <tr>\n",
       "      <th>108</th>\n",
       "      <td>2022-07-15</td>\n",
       "      <td>Beef</td>\n",
       "      <td>1.0</td>\n",
       "      <td>NaN</td>\n",
       "    </tr>\n",
       "    <tr>\n",
       "      <th>109</th>\n",
       "      <td>2022-07-15</td>\n",
       "      <td>Prawns</td>\n",
       "      <td>1.0</td>\n",
       "      <td>NaN</td>\n",
       "    </tr>\n",
       "    <tr>\n",
       "      <th>110</th>\n",
       "      <td>2022-07-15</td>\n",
       "      <td>Lemon</td>\n",
       "      <td>1.0</td>\n",
       "      <td>NaN</td>\n",
       "    </tr>\n",
       "  </tbody>\n",
       "</table>\n",
       "</div>"
      ],
      "text/plain": [
       "          DATE DESCRIPTION  UNIT PLACE\n",
       "106 2022-07-05       Lemon   4.0   NaN\n",
       "107 2022-07-08        Beef   1.0   NaN\n",
       "108 2022-07-15        Beef   1.0   NaN\n",
       "109 2022-07-15      Prawns   1.0   NaN\n",
       "110 2022-07-15       Lemon   1.0   NaN"
      ]
     },
     "execution_count": 5,
     "metadata": {},
     "output_type": "execute_result"
    }
   ],
   "source": [
    "df.tail() #last 5 rows"
   ]
  },
  {
   "cell_type": "code",
   "execution_count": 6,
   "id": "568f39ae",
   "metadata": {},
   "outputs": [
    {
     "data": {
      "text/plain": [
       "(111, 4)"
      ]
     },
     "execution_count": 6,
     "metadata": {},
     "output_type": "execute_result"
    }
   ],
   "source": [
    "df.shape # tells the number of rows and columns "
   ]
  },
  {
   "cell_type": "code",
   "execution_count": 7,
   "id": "5e2589ec",
   "metadata": {},
   "outputs": [
    {
     "name": "stdout",
     "output_type": "stream",
     "text": [
      "<class 'pandas.core.frame.DataFrame'>\n",
      "RangeIndex: 111 entries, 0 to 110\n",
      "Data columns (total 4 columns):\n",
      " #   Column       Non-Null Count  Dtype         \n",
      "---  ------       --------------  -----         \n",
      " 0   DATE         111 non-null    datetime64[ns]\n",
      " 1   DESCRIPTION  111 non-null    object        \n",
      " 2   UNIT         111 non-null    float64       \n",
      " 3   PLACE        103 non-null    object        \n",
      "dtypes: datetime64[ns](1), float64(1), object(2)\n",
      "memory usage: 3.6+ KB\n"
     ]
    }
   ],
   "source": [
    "#information about the DataFrame.\n",
    "df.info() #The information contains the number of columns, column labels, column data types, memory usage, range index, and the number of cells in each column "
   ]
  },
  {
   "cell_type": "code",
   "execution_count": 8,
   "id": "27763d86",
   "metadata": {},
   "outputs": [
    {
     "data": {
      "text/plain": [
       "Index(['DATE', 'DESCRIPTION', 'UNIT', 'PLACE'], dtype='object')"
      ]
     },
     "execution_count": 8,
     "metadata": {},
     "output_type": "execute_result"
    }
   ],
   "source": [
    "#column labels\n",
    "df.columns"
   ]
  },
  {
   "cell_type": "code",
   "execution_count": 9,
   "id": "3f954bcf",
   "metadata": {},
   "outputs": [
    {
     "data": {
      "text/plain": [
       "Index          128\n",
       "DATE           888\n",
       "DESCRIPTION    888\n",
       "UNIT           888\n",
       "PLACE          888\n",
       "dtype: int64"
      ]
     },
     "execution_count": 9,
     "metadata": {},
     "output_type": "execute_result"
    }
   ],
   "source": [
    "#Return the memory usage of each column in bytes.\n",
    "df.memory_usage()"
   ]
  },
  {
   "cell_type": "code",
   "execution_count": 10,
   "id": "f6dbcf19",
   "metadata": {},
   "outputs": [
    {
     "data": {
      "text/plain": [
       "['DESCRIPTION', 'PLACE']"
      ]
     },
     "execution_count": 10,
     "metadata": {},
     "output_type": "execute_result"
    }
   ],
   "source": [
    "# Categerical columns\n",
    "Cat_col=[fea for fea in df.columns if df[fea].dtype=='O']\n",
    "Cat_col"
   ]
  },
  {
   "cell_type": "code",
   "execution_count": 11,
   "id": "8e92a10c",
   "metadata": {},
   "outputs": [
    {
     "data": {
      "text/plain": [
       "['UNIT']"
      ]
     },
     "execution_count": 11,
     "metadata": {},
     "output_type": "execute_result"
    }
   ],
   "source": [
    "# Numerical columns\n",
    "Num_col=[fea for fea in df.columns if df[fea].dtype=='float']\n",
    "Num_col"
   ]
  },
  {
   "cell_type": "code",
   "execution_count": 12,
   "id": "0b2ba6d9",
   "metadata": {},
   "outputs": [
    {
     "data": {
      "text/plain": [
       "['DATE']"
      ]
     },
     "execution_count": 12,
     "metadata": {},
     "output_type": "execute_result"
    }
   ],
   "source": [
    "Date_col=[fea for fea in df.columns if df[fea].dtype=='datetime64[ns]']\n",
    "Date_col"
   ]
  },
  {
   "cell_type": "code",
   "execution_count": 13,
   "id": "b6922bb1",
   "metadata": {},
   "outputs": [
    {
     "data": {
      "text/html": [
       "<div>\n",
       "<style scoped>\n",
       "    .dataframe tbody tr th:only-of-type {\n",
       "        vertical-align: middle;\n",
       "    }\n",
       "\n",
       "    .dataframe tbody tr th {\n",
       "        vertical-align: top;\n",
       "    }\n",
       "\n",
       "    .dataframe thead th {\n",
       "        text-align: right;\n",
       "    }\n",
       "</style>\n",
       "<table border=\"1\" class=\"dataframe\">\n",
       "  <thead>\n",
       "    <tr style=\"text-align: right;\">\n",
       "      <th></th>\n",
       "      <th>UNIT</th>\n",
       "    </tr>\n",
       "  </thead>\n",
       "  <tbody>\n",
       "    <tr>\n",
       "      <th>count</th>\n",
       "      <td>111.000000</td>\n",
       "    </tr>\n",
       "    <tr>\n",
       "      <th>mean</th>\n",
       "      <td>1.720721</td>\n",
       "    </tr>\n",
       "    <tr>\n",
       "      <th>std</th>\n",
       "      <td>1.088545</td>\n",
       "    </tr>\n",
       "    <tr>\n",
       "      <th>min</th>\n",
       "      <td>1.000000</td>\n",
       "    </tr>\n",
       "    <tr>\n",
       "      <th>25%</th>\n",
       "      <td>1.000000</td>\n",
       "    </tr>\n",
       "    <tr>\n",
       "      <th>50%</th>\n",
       "      <td>1.000000</td>\n",
       "    </tr>\n",
       "    <tr>\n",
       "      <th>75%</th>\n",
       "      <td>2.000000</td>\n",
       "    </tr>\n",
       "    <tr>\n",
       "      <th>max</th>\n",
       "      <td>6.000000</td>\n",
       "    </tr>\n",
       "  </tbody>\n",
       "</table>\n",
       "</div>"
      ],
      "text/plain": [
       "             UNIT\n",
       "count  111.000000\n",
       "mean     1.720721\n",
       "std      1.088545\n",
       "min      1.000000\n",
       "25%      1.000000\n",
       "50%      1.000000\n",
       "75%      2.000000\n",
       "max      6.000000"
      ]
     },
     "execution_count": 13,
     "metadata": {},
     "output_type": "execute_result"
    }
   ],
   "source": [
    "# description of the data in the DataFrame\n",
    "df.describe()"
   ]
  },
  {
   "cell_type": "code",
   "execution_count": 14,
   "id": "eddd312a",
   "metadata": {},
   "outputs": [
    {
     "data": {
      "text/plain": [
       "DATE           0\n",
       "DESCRIPTION    0\n",
       "UNIT           0\n",
       "PLACE          8\n",
       "dtype: int64"
      ]
     },
     "execution_count": 14,
     "metadata": {},
     "output_type": "execute_result"
    }
   ],
   "source": [
    "#counting for each column how many null values there are\n",
    "df.isnull().sum()"
   ]
  },
  {
   "cell_type": "markdown",
   "id": "90f00b00",
   "metadata": {},
   "source": [
    "**There are 8 null values in place column**"
   ]
  },
  {
   "cell_type": "code",
   "execution_count": 15,
   "id": "a8aa6b4d",
   "metadata": {},
   "outputs": [
    {
     "data": {
      "text/plain": [
       "8"
      ]
     },
     "execution_count": 15,
     "metadata": {},
     "output_type": "execute_result"
    }
   ],
   "source": [
    "df.isnull().sum().sum()"
   ]
  },
  {
   "cell_type": "code",
   "execution_count": 76,
   "id": "dd14a125",
   "metadata": {},
   "outputs": [
    {
     "data": {
      "text/plain": [
       "<AxesSubplot:>"
      ]
     },
     "execution_count": 76,
     "metadata": {},
     "output_type": "execute_result"
    },
    {
     "data": {
      "image/png": "[encoded data removed]",
      "text/plain": [
       "<Figure size 1728x720 with 3 Axes>"
      ]
     },
     "metadata": {
      "needs_background": "light"
     },
     "output_type": "display_data"
    }
   ],
   "source": [
    "msno.bar(df,color='#34495E') # Only PLACE has missing values"
   ]
  },
  {
   "cell_type": "code",
   "execution_count": 49,
   "id": "097221b5",
   "metadata": {},
   "outputs": [],
   "source": [
    "df1=df.dropna() # drop null values rows"
   ]
  },
  {
   "cell_type": "code",
   "execution_count": 50,
   "id": "72817839",
   "metadata": {},
   "outputs": [
    {
     "data": {
      "text/html": [
       "<div>\n",
       "<style scoped>\n",
       "    .dataframe tbody tr th:only-of-type {\n",
       "        vertical-align: middle;\n",
       "    }\n",
       "\n",
       "    .dataframe tbody tr th {\n",
       "        vertical-align: top;\n",
       "    }\n",
       "\n",
       "    .dataframe thead th {\n",
       "        text-align: right;\n",
       "    }\n",
       "</style>\n",
       "<table border=\"1\" class=\"dataframe\">\n",
       "  <thead>\n",
       "    <tr style=\"text-align: right;\">\n",
       "      <th></th>\n",
       "      <th>DATE</th>\n",
       "      <th>DESCRIPTION</th>\n",
       "      <th>UNIT</th>\n",
       "      <th>PLACE</th>\n",
       "    </tr>\n",
       "  </thead>\n",
       "  <tbody>\n",
       "    <tr>\n",
       "      <th>0</th>\n",
       "      <td>2022-04-01</td>\n",
       "      <td>Beef</td>\n",
       "      <td>1.0</td>\n",
       "      <td>Kolenchery</td>\n",
       "    </tr>\n",
       "    <tr>\n",
       "      <th>1</th>\n",
       "      <td>2022-04-01</td>\n",
       "      <td>Fish</td>\n",
       "      <td>1.0</td>\n",
       "      <td>Kolenchery</td>\n",
       "    </tr>\n",
       "    <tr>\n",
       "      <th>2</th>\n",
       "      <td>2022-04-03</td>\n",
       "      <td>Beef</td>\n",
       "      <td>2.0</td>\n",
       "      <td>Tripunithura</td>\n",
       "    </tr>\n",
       "    <tr>\n",
       "      <th>3</th>\n",
       "      <td>2022-04-05</td>\n",
       "      <td>Prawns</td>\n",
       "      <td>1.0</td>\n",
       "      <td>Bangalore</td>\n",
       "    </tr>\n",
       "    <tr>\n",
       "      <th>4</th>\n",
       "      <td>2022-04-06</td>\n",
       "      <td>Dates</td>\n",
       "      <td>1.0</td>\n",
       "      <td>Mangalore</td>\n",
       "    </tr>\n",
       "    <tr>\n",
       "      <th>...</th>\n",
       "      <td>...</td>\n",
       "      <td>...</td>\n",
       "      <td>...</td>\n",
       "      <td>...</td>\n",
       "    </tr>\n",
       "    <tr>\n",
       "      <th>98</th>\n",
       "      <td>2022-06-26</td>\n",
       "      <td>Prawns</td>\n",
       "      <td>1.0</td>\n",
       "      <td>Kochi</td>\n",
       "    </tr>\n",
       "    <tr>\n",
       "      <th>99</th>\n",
       "      <td>2022-06-28</td>\n",
       "      <td>Prawns</td>\n",
       "      <td>4.0</td>\n",
       "      <td>Kottayam</td>\n",
       "    </tr>\n",
       "    <tr>\n",
       "      <th>100</th>\n",
       "      <td>2022-06-28</td>\n",
       "      <td>Fish</td>\n",
       "      <td>3.0</td>\n",
       "      <td>Kottayam</td>\n",
       "    </tr>\n",
       "    <tr>\n",
       "      <th>101</th>\n",
       "      <td>2022-06-28</td>\n",
       "      <td>King Fish</td>\n",
       "      <td>1.0</td>\n",
       "      <td>Kottayam</td>\n",
       "    </tr>\n",
       "    <tr>\n",
       "      <th>102</th>\n",
       "      <td>2022-06-28</td>\n",
       "      <td>Beef</td>\n",
       "      <td>4.0</td>\n",
       "      <td>Kottayam</td>\n",
       "    </tr>\n",
       "  </tbody>\n",
       "</table>\n",
       "<p>103 rows × 4 columns</p>\n",
       "</div>"
      ],
      "text/plain": [
       "          DATE DESCRIPTION  UNIT          PLACE\n",
       "0   2022-04-01        Beef   1.0    Kolenchery \n",
       "1   2022-04-01        Fish   1.0    Kolenchery \n",
       "2   2022-04-03        Beef   2.0  Tripunithura \n",
       "3   2022-04-05      Prawns   1.0     Bangalore \n",
       "4   2022-04-06       Dates   1.0      Mangalore\n",
       "..         ...         ...   ...            ...\n",
       "98  2022-06-26      Prawns   1.0          Kochi\n",
       "99  2022-06-28      Prawns   4.0       Kottayam\n",
       "100 2022-06-28        Fish   3.0       Kottayam\n",
       "101 2022-06-28   King Fish   1.0       Kottayam\n",
       "102 2022-06-28        Beef   4.0       Kottayam\n",
       "\n",
       "[103 rows x 4 columns]"
      ]
     },
     "execution_count": 50,
     "metadata": {},
     "output_type": "execute_result"
    }
   ],
   "source": [
    "# Clean data set \n",
    "# Always  use clean data \n",
    "df1 "
   ]
  },
  {
   "cell_type": "code",
   "execution_count": 52,
   "id": "2c179812",
   "metadata": {},
   "outputs": [
    {
     "data": {
      "text/plain": [
       "DATE           33\n",
       "DESCRIPTION    10\n",
       "UNIT            6\n",
       "PLACE          33\n",
       "dtype: int64"
      ]
     },
     "execution_count": 52,
     "metadata": {},
     "output_type": "execute_result"
    }
   ],
   "source": [
    "# Return Unique Values\n",
    "df1.nunique()"
   ]
  },
  {
   "cell_type": "code",
   "execution_count": 51,
   "id": "917fcada",
   "metadata": {},
   "outputs": [
    {
     "data": {
      "text/plain": [
       "(array([ 3.,  1.,  8.,  3.,  1.,  2.,  0., 11., 13.,  0.,  0.,  0.,  0.,\n",
       "         5.,  4.,  0.,  1.,  5.,  6., 10.,  1.,  0.,  1.,  3.,  7.,  0.,\n",
       "         2.,  0.,  2.,  0.,  0.,  1.,  0.,  8.,  0.,  5.]),\n",
       " array([19083.        , 19085.44444444, 19087.88888889, 19090.33333333,\n",
       "        19092.77777778, 19095.22222222, 19097.66666667, 19100.11111111,\n",
       "        19102.55555556, 19105.        , 19107.44444444, 19109.88888889,\n",
       "        19112.33333333, 19114.77777778, 19117.22222222, 19119.66666667,\n",
       "        19122.11111111, 19124.55555556, 19127.        , 19129.44444444,\n",
       "        19131.88888889, 19134.33333333, 19136.77777778, 19139.22222222,\n",
       "        19141.66666667, 19144.11111111, 19146.55555556, 19149.        ,\n",
       "        19151.44444444, 19153.88888889, 19156.33333333, 19158.77777778,\n",
       "        19161.22222222, 19163.66666667, 19166.11111111, 19168.55555556,\n",
       "        19171.        ]),\n",
       " <BarContainer object of 36 artists>)"
      ]
     },
     "execution_count": 51,
     "metadata": {},
     "output_type": "execute_result"
    },
    {
     "data": {
      "image/png": "[encoded data removed]",
      "text/plain": [
       "<Figure size 432x288 with 1 Axes>"
      ]
     },
     "metadata": {
      "needs_background": "light"
     },
     "output_type": "display_data"
    }
   ],
   "source": [
    "#Histogram for univariate variable\n",
    "plt.hist(df1['DATE'], bins=36) #The histogram tells us that people having DESCRIPTION majorly on date between 2022-04-15 to 202205-02"
   ]
  },
  {
   "cell_type": "code",
   "execution_count": 61,
   "id": "eb67c292",
   "metadata": {},
   "outputs": [
    {
     "data": {
      "image/png": "[encoded data removed]",
      "text/plain": [
       "<Figure size 432x288 with 1 Axes>"
      ]
     },
     "metadata": {},
     "output_type": "display_data"
    }
   ],
   "source": [
    "# Pie chart\n",
    "df1['DESCRIPTION'].value_counts().plot(kind=\"pie\", autopct=\"%.2f\")\n",
    "plt.show()"
   ]
  },
  {
   "cell_type": "markdown",
   "id": "27246153",
   "metadata": {},
   "source": [
    "**A vast majority of the DESCRIPTION is “Beef” in this dataset**"
   ]
  },
  {
   "cell_type": "code",
   "execution_count": 62,
   "id": "e0913f88",
   "metadata": {},
   "outputs": [
    {
     "data": {
      "text/plain": [
       "<seaborn.axisgrid.FacetGrid at 0x16297828a00>"
      ]
     },
     "execution_count": 62,
     "metadata": {},
     "output_type": "execute_result"
    },
    {
     "data": {
      "image/png": "[encoded data removed]",
      "text/plain": [
       "<Figure size 360x360 with 1 Axes>"
      ]
     },
     "metadata": {
      "needs_background": "light"
     },
     "output_type": "display_data"
    }
   ],
   "source": [
    "#distribution plot\n",
    "sns.displot(df1, x=\"DESCRIPTION\") # Beef is more demanding"
   ]
  },
  {
   "cell_type": "code",
   "execution_count": 63,
   "id": "fefec080",
   "metadata": {},
   "outputs": [],
   "source": [
    "# counting DESCRIPTION\n",
    "count=df1['DESCRIPTION'].value_counts()"
   ]
  },
  {
   "cell_type": "code",
   "execution_count": 64,
   "id": "c8e2d297",
   "metadata": {},
   "outputs": [
    {
     "data": {
      "text/plain": [
       "Beef          30\n",
       "Prawns        28\n",
       "Fish          12\n",
       "Mango         10\n",
       "Lemon          7\n",
       "King Fish      7\n",
       "Dates          3\n",
       "Dryfruits      3\n",
       "Dry fruits     2\n",
       "Kadumanga      1\n",
       "Name: DESCRIPTION, dtype: int64"
      ]
     },
     "execution_count": 64,
     "metadata": {},
     "output_type": "execute_result"
    }
   ],
   "source": [
    "count"
   ]
  },
  {
   "cell_type": "code",
   "execution_count": 65,
   "id": "79a9da63",
   "metadata": {},
   "outputs": [
    {
     "data": {
      "text/plain": [
       "<AxesSubplot:xlabel='count', ylabel='DESCRIPTION'>"
      ]
     },
     "execution_count": 65,
     "metadata": {},
     "output_type": "execute_result"
    },
    {
     "data": {
      "image/png": "[encoded data removed]",
      "text/plain": [
       "<Figure size 432x288 with 1 Axes>"
      ]
     },
     "metadata": {
      "needs_background": "light"
     },
     "output_type": "display_data"
    }
   ],
   "source": [
    "#count plot for DESCRIPTION :Which DESCRIPTION  is in demanding\n",
    "sns.countplot(data=df1, y=\"DESCRIPTION\")"
   ]
  },
  {
   "cell_type": "code",
   "execution_count": 69,
   "id": "13b55185",
   "metadata": {},
   "outputs": [
    {
     "data": {
      "text/plain": [
       "count    103.000000\n",
       "mean       1.718447\n",
       "std        1.097390\n",
       "min        1.000000\n",
       "25%        1.000000\n",
       "50%        1.000000\n",
       "75%        2.000000\n",
       "max        6.000000\n",
       "Name: UNIT, dtype: float64"
      ]
     },
     "execution_count": 69,
     "metadata": {},
     "output_type": "execute_result"
    }
   ],
   "source": [
    "# Statistical Analysis\n",
    "df1['UNIT'].describe()"
   ]
  },
  {
   "cell_type": "code",
   "execution_count": 70,
   "id": "a166eb12",
   "metadata": {},
   "outputs": [
    {
     "data": {
      "text/plain": [
       "(array([59., 28.,  7.,  6.,  1.,  2.]),\n",
       " array([1.        , 1.83333333, 2.66666667, 3.5       , 4.33333333,\n",
       "        5.16666667, 6.        ]),\n",
       " <BarContainer object of 6 artists>)"
      ]
     },
     "execution_count": 70,
     "metadata": {},
     "output_type": "execute_result"
    },
    {
     "data": {
      "image/png": "[encoded data removed]",
      "text/plain": [
       "<Figure size 432x288 with 1 Axes>"
      ]
     },
     "metadata": {
      "needs_background": "light"
     },
     "output_type": "display_data"
    }
   ],
   "source": [
    "#histogram for UNIT variable\n",
    "plt.hist(df1['UNIT'], bins=6) # Mostly take 1 unit"
   ]
  },
  {
   "cell_type": "code",
   "execution_count": 71,
   "id": "90f47e4e",
   "metadata": {},
   "outputs": [],
   "source": [
    "# Counting majority PLACE\n",
    "count=df1['PLACE'].value_counts()\n",
    "x=count.head(10)"
   ]
  },
  {
   "cell_type": "code",
   "execution_count": 59,
   "id": "62784747",
   "metadata": {},
   "outputs": [
    {
     "data": {
      "text/plain": [
       "Malappuram         10\n",
       "Noida - UP          6\n",
       "Eloor               6\n",
       "Kottayam            6\n",
       "Mumbai              6\n",
       "United States       5\n",
       "Kochi               5\n",
       "To Kottayam         5\n",
       "Eroor - Vytila      5\n",
       "Pathanamthitta      4\n",
       "Name: PLACE, dtype: int64"
      ]
     },
     "execution_count": 59,
     "metadata": {},
     "output_type": "execute_result"
    }
   ],
   "source": [
    "x"
   ]
  },
  {
   "cell_type": "code",
   "execution_count": 68,
   "id": "b8529cf2",
   "metadata": {},
   "outputs": [
    {
     "data": {
      "text/plain": [
       "<seaborn.axisgrid.FacetGrid at 0x16297807f70>"
      ]
     },
     "execution_count": 68,
     "metadata": {},
     "output_type": "execute_result"
    },
    {
     "data": {
      "image/png": "[encoded data removed]",
      "text/plain": [
       "<Figure size 360x360 with 1 Axes>"
      ]
     },
     "metadata": {
      "needs_background": "light"
     },
     "output_type": "display_data"
    }
   ],
   "source": [
    "#distribution plot for PLACE variable\n",
    "sns.displot(df1, x=\"PLACE\",color='Red') # Malappuram city takes most of the DESCRIPTION"
   ]
  },
  {
   "cell_type": "markdown",
   "id": "86bd1523",
   "metadata": {},
   "source": [
    "**Covariance**"
   ]
  },
  {
   "cell_type": "code",
   "execution_count": 72,
   "id": "5fdfabc5",
   "metadata": {},
   "outputs": [
    {
     "data": {
      "text/html": [
       "<div>\n",
       "<style scoped>\n",
       "    .dataframe tbody tr th:only-of-type {\n",
       "        vertical-align: middle;\n",
       "    }\n",
       "\n",
       "    .dataframe tbody tr th {\n",
       "        vertical-align: top;\n",
       "    }\n",
       "\n",
       "    .dataframe thead th {\n",
       "        text-align: right;\n",
       "    }\n",
       "</style>\n",
       "<table border=\"1\" class=\"dataframe\">\n",
       "  <thead>\n",
       "    <tr style=\"text-align: right;\">\n",
       "      <th></th>\n",
       "      <th>UNIT</th>\n",
       "    </tr>\n",
       "  </thead>\n",
       "  <tbody>\n",
       "    <tr>\n",
       "      <th>UNIT</th>\n",
       "      <td>1.204264</td>\n",
       "    </tr>\n",
       "  </tbody>\n",
       "</table>\n",
       "</div>"
      ],
      "text/plain": [
       "          UNIT\n",
       "UNIT  1.204264"
      ]
     },
     "execution_count": 72,
     "metadata": {},
     "output_type": "execute_result"
    }
   ],
   "source": [
    "df1.cov() # covariance"
   ]
  },
  {
   "cell_type": "code",
   "execution_count": 73,
   "id": "5e402af6",
   "metadata": {},
   "outputs": [
    {
     "data": {
      "text/html": [
       "<div>\n",
       "<style scoped>\n",
       "    .dataframe tbody tr th:only-of-type {\n",
       "        vertical-align: middle;\n",
       "    }\n",
       "\n",
       "    .dataframe tbody tr th {\n",
       "        vertical-align: top;\n",
       "    }\n",
       "\n",
       "    .dataframe thead th {\n",
       "        text-align: right;\n",
       "    }\n",
       "</style>\n",
       "<table border=\"1\" class=\"dataframe\">\n",
       "  <thead>\n",
       "    <tr style=\"text-align: right;\">\n",
       "      <th></th>\n",
       "      <th>UNIT</th>\n",
       "    </tr>\n",
       "  </thead>\n",
       "  <tbody>\n",
       "    <tr>\n",
       "      <th>UNIT</th>\n",
       "      <td>1.0</td>\n",
       "    </tr>\n",
       "  </tbody>\n",
       "</table>\n",
       "</div>"
      ],
      "text/plain": [
       "      UNIT\n",
       "UNIT   1.0"
      ]
     },
     "execution_count": 73,
     "metadata": {},
     "output_type": "execute_result"
    }
   ],
   "source": [
    "corelation=df1.corr() # correlation return relation between variables\n",
    "corelation          # There is no relation between other variables, they are independent variables"
   ]
  },
  {
   "cell_type": "code",
   "execution_count": 28,
   "id": "368d45ca",
   "metadata": {},
   "outputs": [
    {
     "data": {
      "text/plain": [
       "<AxesSubplot:>"
      ]
     },
     "execution_count": 28,
     "metadata": {},
     "output_type": "execute_result"
    },
    {
     "data": {
      "image/png": "[encoded data removed]",
      "text/plain": [
       "<Figure size 432x288 with 2 Axes>"
      ]
     },
     "metadata": {
      "needs_background": "light"
     },
     "output_type": "display_data"
    }
   ],
   "source": [
    "sns.heatmap(corelation) # there is only positive correlation between UNIT Variable"
   ]
  },
  {
   "cell_type": "markdown",
   "id": "58da78f0",
   "metadata": {},
   "source": [
    "**Missing values**"
   ]
  },
  {
   "cell_type": "code",
   "execution_count": 77,
   "id": "6ba4228c",
   "metadata": {},
   "outputs": [
    {
     "data": {
      "text/plain": [
       "<AxesSubplot:>"
      ]
     },
     "execution_count": 77,
     "metadata": {},
     "output_type": "execute_result"
    },
    {
     "data": {
      "image/png": "[encoded data removed]",
      "text/plain": [
       "<Figure size 1800x720 with 1 Axes>"
      ]
     },
     "metadata": {
      "needs_background": "light"
     },
     "output_type": "display_data"
    }
   ],
   "source": [
    "#The dendrogram allows you to more fully correlate variable completion, revealing trends deeper than the pairwise ones visible in the correlation heatmap.\n",
    "msno.dendrogram(df1) # In clean data set has no missing values"
   ]
  },
  {
   "cell_type": "code",
   "execution_count": 78,
   "id": "9fa705ba",
   "metadata": {},
   "outputs": [
    {
     "data": {
      "text/plain": [
       "DATE        DESCRIPTION  UNIT  PLACE            \n",
       "2022-04-22  King Fish    2.0   Mumbai               2\n",
       "2022-05-07  Mango        1.0   Bangalore to US      2\n",
       "2022-05-19  Beef         1.0   Mangalore - Ullal    2\n",
       "2022-04-22  Beef         2.0   Mumbai               2\n",
       "2022-05-19  Beef         1.0   Nettoor              1\n",
       "dtype: int64"
      ]
     },
     "execution_count": 78,
     "metadata": {},
     "output_type": "execute_result"
    }
   ],
   "source": [
    "#Duplicate values\n",
    "df1.value_counts().head()"
   ]
  },
  {
   "cell_type": "code",
   "execution_count": 79,
   "id": "6b9204e1",
   "metadata": {},
   "outputs": [
    {
     "data": {
      "text/plain": [
       "<AxesSubplot:xlabel='DATE'>"
      ]
     },
     "execution_count": 79,
     "metadata": {},
     "output_type": "execute_result"
    },
    {
     "data": {
      "image/png": "[encoded data removed]",
      "text/plain": [
       "<Figure size 432x288 with 1 Axes>"
      ]
     },
     "metadata": {
      "needs_background": "light"
     },
     "output_type": "display_data"
    }
   ],
   "source": [
    "# grouping with date column plot count plot\n",
    "df1.groupby('DATE').count().plot()"
   ]
  },
  {
   "cell_type": "code",
   "execution_count": null,
   "id": "c0cd248a",
   "metadata": {},
   "outputs": [],
   "source": []
  }
 ],
 "metadata": {
  "kernelspec": {
   "display_name": "Python 3 (ipykernel)",
   "language": "python",
   "name": "python3"
  },
  "language_info": {
   "codemirror_mode": {
    "name": "ipython",
    "version": 3
   },
   "file_extension": ".py",
   "mimetype": "text/x-python",
   "name": "python",
   "nbconvert_exporter": "python",
   "pygments_lexer": "ipython3",
   "version": "3.10.4"
  }
 },
 "nbformat": 4,
 "nbformat_minor": 5
}
